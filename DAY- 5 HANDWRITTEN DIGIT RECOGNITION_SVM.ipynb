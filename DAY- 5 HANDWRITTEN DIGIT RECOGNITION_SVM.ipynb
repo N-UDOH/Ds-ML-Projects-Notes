{
 "cells": [
  {
   "cell_type": "code",
   "execution_count": null,
   "id": "677ca32c",
   "metadata": {},
   "outputs": [],
   "source": [
    "import numpy as np\n",
    "import pandas as pd\n",
    "from sklearn.datasets import load_digits\n",
    "import matplotlib.pyplot as plt"
   ]
  },
  {
   "cell_type": "code",
   "execution_count": null,
   "id": "e365cea5",
   "metadata": {},
   "outputs": [],
   "source": [
    "dataset = load_digits()"
   ]
  },
  {
   "cell_type": "code",
   "execution_count": null,
   "id": "2ee30680",
   "metadata": {},
   "outputs": [],
   "source": [
    "print(dataset.data)"
   ]
  },
  {
   "cell_type": "code",
   "execution_count": null,
   "id": "e929acca",
   "metadata": {},
   "outputs": [],
   "source": [
    "print(dataset.target)"
   ]
  },
  {
   "cell_type": "code",
   "execution_count": null,
   "id": "ae34f58c",
   "metadata": {},
   "outputs": [],
   "source": [
    "print(dataset.data.shape)"
   ]
  },
  {
   "cell_type": "code",
   "execution_count": null,
   "id": "ed67885a",
   "metadata": {},
   "outputs": [],
   "source": [
    "print(dataset.images.shape)"
   ]
  },
  {
   "cell_type": "code",
   "execution_count": null,
   "id": "6b9e507f",
   "metadata": {},
   "outputs": [],
   "source": [
    "dataimageLength = len(dataset.images)\n",
    "print(dataimageLength)"
   ]
  },
  {
   "cell_type": "code",
   "execution_count": null,
   "id": "a24f3630",
   "metadata": {},
   "outputs": [],
   "source": [
    "#VISUALIZING THE DATASET\n",
    "n=9 #No. of Sample out of Samples total 1797\n",
    "\n",
    "plt.gray()\n",
    "plt.matshow(dataset.images[n])\n",
    "plt.show()\n",
    "\n",
    "dataset.images[n]"
   ]
  },
  {
   "cell_type": "markdown",
   "id": "03f39fcb",
   "metadata": {},
   "source": [
    "### SEGREGATE DATASET INTO X(Input)& Y(Output)"
   ]
  },
  {
   "cell_type": "code",
   "execution_count": null,
   "id": "8768e7b7",
   "metadata": {},
   "outputs": [],
   "source": [
    "# Input = Pixel. Output = Class"
   ]
  },
  {
   "cell_type": "code",
   "execution_count": null,
   "id": "c3b2ed3d",
   "metadata": {},
   "outputs": [],
   "source": [
    "X = dataset.images.reshape((dataimageLength,-1))\n",
    "print(X)"
   ]
  },
  {
   "cell_type": "code",
   "execution_count": null,
   "id": "7ae700c6",
   "metadata": {},
   "outputs": [],
   "source": [
    "Y = dataset.target\n",
    "Y"
   ]
  },
  {
   "cell_type": "markdown",
   "id": "5444eabf",
   "metadata": {},
   "source": [
    "### Splitting Dataset Into Train/Test"
   ]
  },
  {
   "cell_type": "code",
   "execution_count": null,
   "id": "8274bed9",
   "metadata": {},
   "outputs": [],
   "source": [
    "from sklearn.model_selection import train_test_split\n",
    "\n",
    "X_train, X_test, y_train, y_test = train_test_split(X, Y, test_size = 0.25, random_state =0)\n",
    "print(X_train.shape)\n",
    "print(X_test.shape)"
   ]
  },
  {
   "cell_type": "markdown",
   "id": "6aca471e",
   "metadata": {},
   "source": [
    "### Training the model"
   ]
  },
  {
   "cell_type": "code",
   "execution_count": null,
   "id": "c08b2de5",
   "metadata": {},
   "outputs": [],
   "source": [
    "from sklearn import svm\n",
    "model =svm.SVC(kernel='linear')\n",
    "model.fit(X_train, y_train)\n"
   ]
  },
  {
   "cell_type": "markdown",
   "id": "6ef69ec9",
   "metadata": {},
   "source": [
    "### Predicting what the digit is from Test Data"
   ]
  },
  {
   "cell_type": "code",
   "execution_count": null,
   "id": "02e0a3fc",
   "metadata": {},
   "outputs": [],
   "source": [
    "n=9\n",
    "result = model.predict(dataset.images[n].reshape((1,-1)))\n",
    "plt.imshow(dataset.images[n], cmap=plt.cm.gray_r, interpolation='nearest')\n",
    "print(result)\n",
    "print(\"\\n\")\n",
    "plt.axis('off')\n",
    "plt.title('%i' %result)\n",
    "plt.show()"
   ]
  },
  {
   "cell_type": "markdown",
   "id": "1675f274",
   "metadata": {},
   "source": [
    "### Predicting for Test Data\n"
   ]
  },
  {
   "cell_type": "code",
   "execution_count": null,
   "id": "689ce4bf",
   "metadata": {},
   "outputs": [],
   "source": [
    "y_pred = model.predict(X_test)\n",
    "print(np.concatenate((y_pred.reshape(len(y_pred),1), y_test.reshape(len(y_test),1)),1))\n"
   ]
  },
  {
   "cell_type": "markdown",
   "id": "a371c02c",
   "metadata": {},
   "source": [
    "### Evaluate Model - Accuracy Score"
   ]
  },
  {
   "cell_type": "code",
   "execution_count": null,
   "id": "64657cd6",
   "metadata": {},
   "outputs": [],
   "source": [
    "from sklearn.metrics import accuracy_score\n",
    "print(\"Accuracy of the Model: {0}%\".format(accuracy_score(y_test, y_pred)*100))"
   ]
  },
  {
   "cell_type": "markdown",
   "id": "4ff45456",
   "metadata": {},
   "source": [
    "### Play with the Different Method(Hyperparameter Tuning)"
   ]
  },
  {
   "cell_type": "code",
   "execution_count": null,
   "id": "e13ab560",
   "metadata": {},
   "outputs": [],
   "source": [
    "from sklearn import svm\n",
    "model1 = svm.SVC(kernel='linear')\n",
    "model2 = svm.SVC(kernel='linear')\n",
    "model3 = svm.SVC(gamma=0.001)\n",
    "\n",
    "model1.fit(X_train, y_train)\n",
    "model2.fit(X_train, y_train)\n",
    "model3.fit(X_train, y_train)\n",
    "\n",
    "y_predModel1 = model1.predict(X_test)\n",
    "y_predModel2 = model2.predict(X_test)\n",
    "y_predModel3 = model3.predict(X_test)\n",
    "\n",
    "print(\"Accuracy of Model 1: {0}%\".format(accuracy_score(y_test, y_predModel1)*100))\n",
    "\n",
    "print(\"Accuracy of Model 2: {0}%\".format(accuracy_score(y_test, y_predModel2)*100))\n",
    "\n",
    "print(\"Accuracy of Model 3: {0}%\".format(accuracy_score(y_test, y_predModel3)*100))"
   ]
  },
  {
   "cell_type": "code",
   "execution_count": null,
   "id": "4d80f9d0",
   "metadata": {},
   "outputs": [],
   "source": []
  },
  {
   "cell_type": "code",
   "execution_count": null,
   "id": "a8a9fadc",
   "metadata": {},
   "outputs": [],
   "source": []
  }
 ],
 "metadata": {
  "kernelspec": {
   "display_name": "Python 3 (ipykernel)",
   "language": "python",
   "name": "python3"
  },
  "language_info": {
   "codemirror_mode": {
    "name": "ipython",
    "version": 3
   },
   "file_extension": ".py",
   "mimetype": "text/x-python",
   "name": "python",
   "nbconvert_exporter": "python",
   "pygments_lexer": "ipython3",
   "version": "3.9.12"
  }
 },
 "nbformat": 4,
 "nbformat_minor": 5
}
