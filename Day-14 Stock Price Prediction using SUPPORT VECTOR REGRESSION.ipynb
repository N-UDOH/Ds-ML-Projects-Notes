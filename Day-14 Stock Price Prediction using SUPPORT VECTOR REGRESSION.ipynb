{
 "cells": [
  {
   "cell_type": "code",
   "execution_count": 53,
   "id": "81e1464f",
   "metadata": {},
   "outputs": [],
   "source": [
    "import pandas as pd \n",
    "import numpy as np\n",
    "import matplotlib.pyplot as plt"
   ]
  },
  {
   "cell_type": "code",
   "execution_count": 54,
   "id": "3b5f789c",
   "metadata": {},
   "outputs": [],
   "source": [
    "data = r\"C:\\Users\\UDOH\\Desktop\\ALL PANTECH\\14_StockPredictionusing_SVMREGRESSION\\data.csv\""
   ]
  },
  {
   "cell_type": "code",
   "execution_count": 55,
   "id": "b5d4235e",
   "metadata": {},
   "outputs": [],
   "source": [
    "df = pd.read_csv(data)"
   ]
  },
  {
   "cell_type": "code",
   "execution_count": 56,
   "id": "4c782e2b",
   "metadata": {},
   "outputs": [
    {
     "data": {
      "text/html": [
       "<div>\n",
       "<style scoped>\n",
       "    .dataframe tbody tr th:only-of-type {\n",
       "        vertical-align: middle;\n",
       "    }\n",
       "\n",
       "    .dataframe tbody tr th {\n",
       "        vertical-align: top;\n",
       "    }\n",
       "\n",
       "    .dataframe thead th {\n",
       "        text-align: right;\n",
       "    }\n",
       "</style>\n",
       "<table border=\"1\" class=\"dataframe\">\n",
       "  <thead>\n",
       "    <tr style=\"text-align: right;\">\n",
       "      <th></th>\n",
       "      <th>x</th>\n",
       "      <th>y</th>\n",
       "    </tr>\n",
       "  </thead>\n",
       "  <tbody>\n",
       "    <tr>\n",
       "      <th>0</th>\n",
       "      <td>168.181818</td>\n",
       "      <td>160.840244</td>\n",
       "    </tr>\n",
       "    <tr>\n",
       "      <th>1</th>\n",
       "      <td>187.878788</td>\n",
       "      <td>159.413657</td>\n",
       "    </tr>\n",
       "    <tr>\n",
       "      <th>2</th>\n",
       "      <td>207.575758</td>\n",
       "      <td>157.136809</td>\n",
       "    </tr>\n",
       "    <tr>\n",
       "      <th>3</th>\n",
       "      <td>227.272727</td>\n",
       "      <td>159.357847</td>\n",
       "    </tr>\n",
       "    <tr>\n",
       "      <th>4</th>\n",
       "      <td>246.969697</td>\n",
       "      <td>157.542862</td>\n",
       "    </tr>\n",
       "  </tbody>\n",
       "</table>\n",
       "</div>"
      ],
      "text/plain": [
       "            x           y\n",
       "0  168.181818  160.840244\n",
       "1  187.878788  159.413657\n",
       "2  207.575758  157.136809\n",
       "3  227.272727  159.357847\n",
       "4  246.969697  157.542862"
      ]
     },
     "execution_count": 56,
     "metadata": {},
     "output_type": "execute_result"
    }
   ],
   "source": [
    "df.head()"
   ]
  },
  {
   "cell_type": "code",
   "execution_count": 57,
   "id": "1aabc0bd",
   "metadata": {},
   "outputs": [
    {
     "data": {
      "text/plain": [
       "(94, 2)"
      ]
     },
     "execution_count": 57,
     "metadata": {},
     "output_type": "execute_result"
    }
   ],
   "source": [
    "df.shape"
   ]
  },
  {
   "cell_type": "code",
   "execution_count": 58,
   "id": "e22ceaae",
   "metadata": {},
   "outputs": [
    {
     "name": "stdout",
     "output_type": "stream",
     "text": [
      "<class 'pandas.core.frame.DataFrame'>\n",
      "RangeIndex: 94 entries, 0 to 93\n",
      "Data columns (total 2 columns):\n",
      " #   Column  Non-Null Count  Dtype  \n",
      "---  ------  --------------  -----  \n",
      " 0   x       94 non-null     float64\n",
      " 1   y       94 non-null     float64\n",
      "dtypes: float64(2)\n",
      "memory usage: 1.6 KB\n"
     ]
    }
   ],
   "source": [
    "df.info()"
   ]
  },
  {
   "cell_type": "code",
   "execution_count": 59,
   "id": "6c7d897c",
   "metadata": {},
   "outputs": [
    {
     "data": {
      "text/html": [
       "<div>\n",
       "<style scoped>\n",
       "    .dataframe tbody tr th:only-of-type {\n",
       "        vertical-align: middle;\n",
       "    }\n",
       "\n",
       "    .dataframe tbody tr th {\n",
       "        vertical-align: top;\n",
       "    }\n",
       "\n",
       "    .dataframe thead th {\n",
       "        text-align: right;\n",
       "    }\n",
       "</style>\n",
       "<table border=\"1\" class=\"dataframe\">\n",
       "  <thead>\n",
       "    <tr style=\"text-align: right;\">\n",
       "      <th></th>\n",
       "      <th>x</th>\n",
       "      <th>y</th>\n",
       "    </tr>\n",
       "  </thead>\n",
       "  <tbody>\n",
       "    <tr>\n",
       "      <th>count</th>\n",
       "      <td>94.000000</td>\n",
       "      <td>94.000000</td>\n",
       "    </tr>\n",
       "    <tr>\n",
       "      <th>mean</th>\n",
       "      <td>1084.090909</td>\n",
       "      <td>166.576111</td>\n",
       "    </tr>\n",
       "    <tr>\n",
       "      <th>std</th>\n",
       "      <td>537.321877</td>\n",
       "      <td>5.861601</td>\n",
       "    </tr>\n",
       "    <tr>\n",
       "      <th>min</th>\n",
       "      <td>168.181818</td>\n",
       "      <td>155.234046</td>\n",
       "    </tr>\n",
       "    <tr>\n",
       "      <th>25%</th>\n",
       "      <td>626.136364</td>\n",
       "      <td>161.236377</td>\n",
       "    </tr>\n",
       "    <tr>\n",
       "      <th>50%</th>\n",
       "      <td>1084.090909</td>\n",
       "      <td>166.508064</td>\n",
       "    </tr>\n",
       "    <tr>\n",
       "      <th>75%</th>\n",
       "      <td>1542.045455</td>\n",
       "      <td>171.784967</td>\n",
       "    </tr>\n",
       "    <tr>\n",
       "      <th>max</th>\n",
       "      <td>2000.000000</td>\n",
       "      <td>176.361532</td>\n",
       "    </tr>\n",
       "  </tbody>\n",
       "</table>\n",
       "</div>"
      ],
      "text/plain": [
       "                 x           y\n",
       "count    94.000000   94.000000\n",
       "mean   1084.090909  166.576111\n",
       "std     537.321877    5.861601\n",
       "min     168.181818  155.234046\n",
       "25%     626.136364  161.236377\n",
       "50%    1084.090909  166.508064\n",
       "75%    1542.045455  171.784967\n",
       "max    2000.000000  176.361532"
      ]
     },
     "execution_count": 59,
     "metadata": {},
     "output_type": "execute_result"
    }
   ],
   "source": [
    "df.describe()"
   ]
  },
  {
   "cell_type": "code",
   "execution_count": 41,
   "id": "9e4d96aa",
   "metadata": {},
   "outputs": [
    {
     "data": {
      "text/plain": [
       "x    0\n",
       "y    0\n",
       "dtype: int64"
      ]
     },
     "execution_count": 41,
     "metadata": {},
     "output_type": "execute_result"
    }
   ],
   "source": [
    "df.isnull().sum()"
   ]
  },
  {
   "cell_type": "markdown",
   "id": "fe99525c",
   "metadata": {},
   "source": [
    "### SEGREGATE DATA INTO INPUT X AND OUTPUT Y"
   ]
  },
  {
   "cell_type": "code",
   "execution_count": 60,
   "id": "838441f6",
   "metadata": {},
   "outputs": [
    {
     "data": {
      "text/html": [
       "<div>\n",
       "<style scoped>\n",
       "    .dataframe tbody tr th:only-of-type {\n",
       "        vertical-align: middle;\n",
       "    }\n",
       "\n",
       "    .dataframe tbody tr th {\n",
       "        vertical-align: top;\n",
       "    }\n",
       "\n",
       "    .dataframe thead th {\n",
       "        text-align: right;\n",
       "    }\n",
       "</style>\n",
       "<table border=\"1\" class=\"dataframe\">\n",
       "  <thead>\n",
       "    <tr style=\"text-align: right;\">\n",
       "      <th></th>\n",
       "      <th>x</th>\n",
       "    </tr>\n",
       "  </thead>\n",
       "  <tbody>\n",
       "    <tr>\n",
       "      <th>0</th>\n",
       "      <td>168.181818</td>\n",
       "    </tr>\n",
       "    <tr>\n",
       "      <th>1</th>\n",
       "      <td>187.878788</td>\n",
       "    </tr>\n",
       "    <tr>\n",
       "      <th>2</th>\n",
       "      <td>207.575758</td>\n",
       "    </tr>\n",
       "    <tr>\n",
       "      <th>3</th>\n",
       "      <td>227.272727</td>\n",
       "    </tr>\n",
       "    <tr>\n",
       "      <th>4</th>\n",
       "      <td>246.969697</td>\n",
       "    </tr>\n",
       "    <tr>\n",
       "      <th>...</th>\n",
       "      <td>...</td>\n",
       "    </tr>\n",
       "    <tr>\n",
       "      <th>89</th>\n",
       "      <td>1921.212121</td>\n",
       "    </tr>\n",
       "    <tr>\n",
       "      <th>90</th>\n",
       "      <td>1940.909091</td>\n",
       "    </tr>\n",
       "    <tr>\n",
       "      <th>91</th>\n",
       "      <td>1960.606061</td>\n",
       "    </tr>\n",
       "    <tr>\n",
       "      <th>92</th>\n",
       "      <td>1980.303030</td>\n",
       "    </tr>\n",
       "    <tr>\n",
       "      <th>93</th>\n",
       "      <td>2000.000000</td>\n",
       "    </tr>\n",
       "  </tbody>\n",
       "</table>\n",
       "<p>94 rows × 1 columns</p>\n",
       "</div>"
      ],
      "text/plain": [
       "              x\n",
       "0    168.181818\n",
       "1    187.878788\n",
       "2    207.575758\n",
       "3    227.272727\n",
       "4    246.969697\n",
       "..          ...\n",
       "89  1921.212121\n",
       "90  1940.909091\n",
       "91  1960.606061\n",
       "92  1980.303030\n",
       "93  2000.000000\n",
       "\n",
       "[94 rows x 1 columns]"
      ]
     },
     "execution_count": 60,
     "metadata": {},
     "output_type": "execute_result"
    }
   ],
   "source": [
    "#x = df.iloc[:, :-1].values\n",
    "#x\n",
    "x = df.drop(df.columns[-1], axis=1)\n",
    "x \n"
   ]
  },
  {
   "cell_type": "code",
   "execution_count": 29,
   "id": "ff18c936",
   "metadata": {},
   "outputs": [
    {
     "data": {
      "text/plain": [
       "array([160.84024381, 159.41365734, 157.1368088 , 159.35784736,\n",
       "       157.54286158, 157.73520716, 159.34756091, 155.23404557,\n",
       "       155.80774009, 158.3299704 , 157.62585291, 160.47697951,\n",
       "       158.22940639, 157.41781684, 163.37069148, 160.18481104,\n",
       "       160.96838974, 158.18080666, 160.13850728, 161.6460876 ,\n",
       "       159.31922497, 162.56957785, 160.81387414, 161.62873371,\n",
       "       161.20567768, 166.31061698, 162.77603585, 160.88457814,\n",
       "       164.84205952, 160.95225209, 164.00863628, 159.86853854,\n",
       "       161.32847639, 164.57554065, 165.85572104, 164.91849414,\n",
       "       164.54143071, 164.36748958, 162.20962269, 163.92394795,\n",
       "       164.63932852, 167.87182021, 166.64178203, 162.62543484,\n",
       "       166.99665279, 165.77528998, 165.38858024, 168.16274652,\n",
       "       169.19836268, 169.19589357, 165.85186798, 167.10884798,\n",
       "       168.58676929, 170.07230238, 167.35983334, 168.14383356,\n",
       "       166.49945126, 166.51667766, 170.73111225, 172.01551036,\n",
       "       169.35597976, 171.70403549, 170.61721144, 168.80066958,\n",
       "       171.01067   , 173.56092162, 170.6101661 , 174.00807519,\n",
       "       165.83626737, 172.91653228, 171.64379111, 171.06865197,\n",
       "       172.04715792, 168.08546823, 171.81823198, 173.1687706 ,\n",
       "       175.60730324, 171.81194441, 171.42846734, 172.23891016,\n",
       "       175.27019817, 174.29386586, 172.77381293, 175.0568379 ,\n",
       "       174.42142783, 176.36153241, 173.21710593, 174.16285752,\n",
       "       174.23093521, 172.28509132, 176.00133146, 176.12817115,\n",
       "       175.81325722, 175.53082573])"
      ]
     },
     "execution_count": 29,
     "metadata": {},
     "output_type": "execute_result"
    }
   ],
   "source": [
    "Y = df.iloc[:, -1].values\n",
    "Y"
   ]
  },
  {
   "cell_type": "code",
   "execution_count": 61,
   "id": "3e3b5bce",
   "metadata": {},
   "outputs": [
    {
     "data": {
      "text/plain": [
       "0     160.840244\n",
       "1     159.413657\n",
       "2     157.136809\n",
       "3     159.357847\n",
       "4     157.542862\n",
       "         ...    \n",
       "89    172.285091\n",
       "90    176.001331\n",
       "91    176.128171\n",
       "92    175.813257\n",
       "93    175.530826\n",
       "Name: y, Length: 94, dtype: float64"
      ]
     },
     "execution_count": 61,
     "metadata": {},
     "output_type": "execute_result"
    }
   ],
   "source": [
    "Y = df[df.columns[-1]]\n",
    "Y"
   ]
  },
  {
   "cell_type": "markdown",
   "id": "5e47c9e8",
   "metadata": {},
   "source": [
    "### Splitting the Dataset for Training & Testing"
   ]
  },
  {
   "cell_type": "code",
   "execution_count": 74,
   "id": "79886a58",
   "metadata": {},
   "outputs": [],
   "source": [
    "from sklearn.model_selection import train_test_split\n",
    "x_train,x_test,Y_train,Y_test = train_test_split(x, Y, test_size=0.20,random_state=0)"
   ]
  },
  {
   "cell_type": "markdown",
   "id": "b293977c",
   "metadata": {},
   "source": [
    "### Training Dataset Using Support Vector Regressionm"
   ]
  },
  {
   "cell_type": "code",
   "execution_count": 72,
   "id": "8d727409",
   "metadata": {},
   "outputs": [
    {
     "data": {
      "text/plain": [
       "SVR()"
      ]
     },
     "execution_count": 72,
     "metadata": {},
     "output_type": "execute_result"
    }
   ],
   "source": [
    "from sklearn.svm import SVR\n",
    "model = SVR()\n",
    "model.fit(x_train, Y_train)"
   ]
  },
  {
   "cell_type": "markdown",
   "id": "ce8503b9",
   "metadata": {},
   "source": [
    "### Evaluation of model"
   ]
  },
  {
   "cell_type": "markdown",
   "id": "8845e5de",
   "metadata": {},
   "source": [
    "### Prediction for all test data for validation\n",
    "### SSres is the sum of squares of the residual errors.\n",
    "### SStot is the total sum of the errors.\n",
    "\n",
    "R*2= 1- SSres / SStot"
   ]
  },
  {
   "cell_type": "code",
   "execution_count": 73,
   "id": "62a1c5d9",
   "metadata": {},
   "outputs": [
    {
     "name": "stdout",
     "output_type": "stream",
     "text": [
      "Root Mean Square Error: 2.2874345266298186\n",
      "R2Score 85.57906418314455\n"
     ]
    }
   ],
   "source": [
    "Ypred = model.predict(x_test)\n",
    "\n",
    "from sklearn.metrics import r2_score,mean_squared_error\n",
    "mse = mean_squared_error(Y_test,Ypred)\n",
    "rmse=np.sqrt(mse)\n",
    "print(\"Root Mean Square Error:\", rmse)\n",
    "r2score = r2_score(Y_test,Ypred)\n",
    "print(\"R2Score\", r2score*100)     "
   ]
  },
  {
   "cell_type": "code",
   "execution_count": null,
   "id": "4f2a921c",
   "metadata": {},
   "outputs": [],
   "source": []
  }
 ],
 "metadata": {
  "kernelspec": {
   "display_name": "Python 3 (ipykernel)",
   "language": "python",
   "name": "python3"
  },
  "language_info": {
   "codemirror_mode": {
    "name": "ipython",
    "version": 3
   },
   "file_extension": ".py",
   "mimetype": "text/x-python",
   "name": "python",
   "nbconvert_exporter": "python",
   "pygments_lexer": "ipython3",
   "version": "3.9.12"
  }
 },
 "nbformat": 4,
 "nbformat_minor": 5
}
