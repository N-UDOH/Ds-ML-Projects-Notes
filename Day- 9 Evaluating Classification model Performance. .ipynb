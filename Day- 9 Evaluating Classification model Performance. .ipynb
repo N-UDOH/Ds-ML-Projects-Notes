{
 "cells": [
  {
   "cell_type": "markdown",
   "id": "a5846a34",
   "metadata": {},
   "source": [
    "## Validating Model - Ad. Sale Prediction from Existing Customer -Logistic Regression  #Refer to Day 3"
   ]
  },
  {
   "cell_type": "code",
   "execution_count": null,
   "id": "73249253",
   "metadata": {},
   "outputs": [],
   "source": [
    "# import libraries\n",
    "import pandas as pd\n",
    "import numpy as np"
   ]
  },
  {
   "cell_type": "code",
   "execution_count": null,
   "id": "919a39cb",
   "metadata": {},
   "outputs": [],
   "source": [
    "df = pd.read_csv(r\"C:\\Users\\UDOH\\Desktop\\DigitalAd_dataset.csv\")"
   ]
  },
  {
   "cell_type": "code",
   "execution_count": null,
   "id": "bc045852",
   "metadata": {},
   "outputs": [],
   "source": [
    "df.head()"
   ]
  },
  {
   "cell_type": "code",
   "execution_count": null,
   "id": "5e89ed92",
   "metadata": {},
   "outputs": [],
   "source": [
    "#SEgregate\n",
    "\n",
    "# X = df.iloc[1, :-1].values\n",
    "# X\n",
    "X = df.iloc[:, :-1]\n",
    "print(X)"
   ]
  },
  {
   "cell_type": "code",
   "execution_count": null,
   "id": "ae256595",
   "metadata": {},
   "outputs": [],
   "source": [
    "y = df.iloc[:, -1].values\n",
    "y"
   ]
  },
  {
   "cell_type": "code",
   "execution_count": null,
   "id": "9024049f",
   "metadata": {},
   "outputs": [],
   "source": [
    "#Splitting dataset into Train $ Test\n",
    "from sklearn.model_selection import train_test_split\n",
    "X_train, X_test, y_train, y_test = train_test_split(X, y, test_size=0.25, random_state=0)"
   ]
  },
  {
   "cell_type": "code",
   "execution_count": null,
   "id": "523c0521",
   "metadata": {},
   "outputs": [],
   "source": [
    "# FEATURE SCALING\n",
    "\n",
    "#making all the features of X to be the same ie Age and Salary. DOnt touch Y\n",
    "#we scale our data to make all the features contribute equally to the result\n",
    "#Fit_transform-fit method is calculating the mean and variance of each of the\n",
    "#features present in our data\n",
    "#Transform- Transform method is transforming all the features using the mean and variance\n",
    "\n",
    "from sklearn.preprocessing import StandardScaler\n",
    "\n",
    "sc = StandardScaler()\n",
    "X_train = sc.fit_transform(X_train)\n",
    "X_test = sc.transform(X_test)"
   ]
  },
  {
   "cell_type": "code",
   "execution_count": null,
   "id": "b5369da1",
   "metadata": {},
   "outputs": [],
   "source": [
    "#TRAINING \n",
    "\n",
    "from sklearn.linear_model import LogisticRegression\n",
    "\n",
    "model = LogisticRegression(random_state=0)\n",
    "model.fit(X_train, y_train)\n"
   ]
  },
  {
   "cell_type": "code",
   "execution_count": null,
   "id": "844af53b",
   "metadata": {},
   "outputs": [],
   "source": [
    "# Prediction for all test data\n",
    "\n",
    "y_pred = model.predict(X_test)\n",
    "print(np.concatenate((\n",
    "    y_pred.reshape(len(y_pred),1),\n",
    "    y_test.reshape(len(y_test),1)),1))\n",
    "\n",
    "\n"
   ]
  },
  {
   "cell_type": "markdown",
   "id": "05da4983",
   "metadata": {},
   "source": [
    "### Evaluating Model using Confusion Matrix"
   ]
  },
  {
   "cell_type": "code",
   "execution_count": null,
   "id": "adfa146c",
   "metadata": {},
   "outputs": [],
   "source": [
    "from sklearn.metrics import confusion_matrix\n",
    "\n",
    "cm = confusion_matrix(y_test, y_pred)\n",
    "print(\"confusion Matrix: \")\n",
    "print(cm)"
   ]
  },
  {
   "cell_type": "markdown",
   "id": "1e940bc2",
   "metadata": {},
   "source": [
    "### Accuracy_Score"
   ]
  },
  {
   "cell_type": "code",
   "execution_count": null,
   "id": "8362a9b8",
   "metadata": {},
   "outputs": [],
   "source": [
    "from sklearn.metrics import accuracy_score\n",
    "print(\"Accuracy: {0}%\".format(accuracy_score(y_test, y_pred)*100))"
   ]
  }
 ],
 "metadata": {
  "kernelspec": {
   "display_name": "Python 3 (ipykernel)",
   "language": "python",
   "name": "python3"
  },
  "language_info": {
   "codemirror_mode": {
    "name": "ipython",
    "version": 3
   },
   "file_extension": ".py",
   "mimetype": "text/x-python",
   "name": "python",
   "nbconvert_exporter": "python",
   "pygments_lexer": "ipython3",
   "version": "3.9.12"
  }
 },
 "nbformat": 4,
 "nbformat_minor": 5
}
