{
 "cells": [
  {
   "cell_type": "code",
   "execution_count": null,
   "id": "32b46b19",
   "metadata": {},
   "outputs": [],
   "source": [
    "import numpy as np\n",
    "import pandas as pd\n",
    "from sklearn.datasets import load_iris"
   ]
  },
  {
   "cell_type": "code",
   "execution_count": null,
   "id": "98a5348a",
   "metadata": {},
   "outputs": [],
   "source": [
    "dataset = load_iris()"
   ]
  },
  {
   "cell_type": "code",
   "execution_count": null,
   "id": "740663c7",
   "metadata": {},
   "outputs": [],
   "source": [
    "print(dataset.data)\n"
   ]
  },
  {
   "cell_type": "code",
   "execution_count": null,
   "id": "971b17b6",
   "metadata": {},
   "outputs": [],
   "source": [
    "print(dataset.target)"
   ]
  },
  {
   "cell_type": "code",
   "execution_count": null,
   "id": "994eeceb",
   "metadata": {},
   "outputs": [],
   "source": [
    "print(dataset.data.shape)"
   ]
  },
  {
   "cell_type": "code",
   "execution_count": null,
   "id": "bf249596",
   "metadata": {},
   "outputs": [],
   "source": [
    "#SEGREGATE\n",
    "\n",
    "X = pd.DataFrame(dataset.data, columns=dataset.feature_names)\n",
    "print(X)\n"
   ]
  },
  {
   "cell_type": "code",
   "execution_count": null,
   "id": "e6ca9209",
   "metadata": {},
   "outputs": [],
   "source": [
    "y = dataset.target\n",
    "y\n"
   ]
  },
  {
   "cell_type": "code",
   "execution_count": null,
   "id": "36be2ebe",
   "metadata": {},
   "outputs": [],
   "source": [
    "#SPLITING into Train & Test\n",
    "from sklearn.model_selection import train_test_split\n",
    "\n",
    "X_train, X_test, y_train, y_test = train_test_split(X, y, test_size = 0.25, random_state=0)\n",
    "print(X_train.shape)\n",
    "print(X_test.shape)"
   ]
  },
  {
   "cell_type": "markdown",
   "id": "9e980793",
   "metadata": {},
   "source": [
    "### FInding best max_depth value"
   ]
  },
  {
   "cell_type": "code",
   "execution_count": null,
   "id": "078f0a3e",
   "metadata": {},
   "outputs": [],
   "source": [
    "accuracy = []\n",
    "from sklearn.tree import DecisionTreeClassifier\n",
    "from sklearn.metrics import accuracy_score\n",
    "import matplotlib.pyplot as plt\n",
    "\n",
    "for i in range(1, 10):\n",
    "    model = DecisionTreeClassifier(max_depth=i, random_state=0)  # Corrected max_depth spelling\n",
    "    model.fit(X_train, y_train)\n",
    "    pred = model.predict(X_test)  # Corrected pred spelling\n",
    "    score = accuracy_score(y_test, pred)\n",
    "    accuracy.append(score)\n",
    "    \n",
    "plt.figure(figsize=(12, 6))\n",
    "plt.plot(range(1, 10), accuracy, color='red', linestyle='dashed', marker='o', markerfacecolor='blue', markersize=10 )  # Corrected marker\n",
    "plt.title(\"Finding the best Max_depth\")\n",
    "plt.xlabel('Max Depth')  # Corrected x-axis label\n",
    "plt.ylabel('Accuracy Score')  # Corrected y-axis label\n",
    "plt.show()  # Added to display the plot\n"
   ]
  },
  {
   "cell_type": "code",
   "execution_count": null,
   "id": "655e3333",
   "metadata": {},
   "outputs": [],
   "source": [
    "#TRAINING\n",
    "from sklearn.tree import DecisionTreeClassifier\n",
    "model = DecisionTreeClassifier(criterion = 'entropy', max_depth = 3, random_state = 0)\n",
    "model.fit(X_train, y_train)"
   ]
  },
  {
   "cell_type": "markdown",
   "id": "1b039493",
   "metadata": {},
   "source": [
    "## Prediction"
   ]
  },
  {
   "cell_type": "code",
   "execution_count": null,
   "id": "b65da2aa",
   "metadata": {},
   "outputs": [],
   "source": [
    "y_pred = model.predict(X_test)\n",
    "print(np.concatenate((y_pred.reshape(len(y_pred),1), y_test.reshape(len(y_test),1)),1))\n",
    "\n",
    "print(np.column_stack((model.predict(X_test), y_test)))  # the three codes are the same\n",
    "\n",
    "print(np.concatenate((model.predict(X_test).reshape(-1, 1), y_test.reshape(-1, 1)), axis=1))"
   ]
  },
  {
   "cell_type": "markdown",
   "id": "5a811e9a",
   "metadata": {},
   "source": [
    "### Accuracy Score"
   ]
  },
  {
   "cell_type": "code",
   "execution_count": null,
   "id": "9e480c2b",
   "metadata": {},
   "outputs": [],
   "source": [
    "from sklearn.metrics import accuracy_score\n",
    "print(\"Accuracy of the Model: {0}%\".format(accuracy_score(y_test, y_pred)*100))"
   ]
  }
 ],
 "metadata": {
  "kernelspec": {
   "display_name": "Python 3 (ipykernel)",
   "language": "python",
   "name": "python3"
  },
  "language_info": {
   "codemirror_mode": {
    "name": "ipython",
    "version": 3
   },
   "file_extension": ".py",
   "mimetype": "text/x-python",
   "name": "python",
   "nbconvert_exporter": "python",
   "pygments_lexer": "ipython3",
   "version": "3.9.12"
  }
 },
 "nbformat": 4,
 "nbformat_minor": 5
}
