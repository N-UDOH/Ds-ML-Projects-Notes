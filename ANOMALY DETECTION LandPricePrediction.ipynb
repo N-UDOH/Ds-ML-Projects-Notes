{
 "cells": [
  {
   "cell_type": "markdown",
   "id": "0945b813",
   "metadata": {},
   "source": [
    "### Anomaly detection system and Predictor "
   ]
  },
  {
   "cell_type": "code",
   "execution_count": null,
   "id": "aaa47928",
   "metadata": {},
   "outputs": [],
   "source": [
    "import pandas as pd  #useful for loading dataset\n",
    "import numpy as np        #to perform array operation\n",
    "from sklearn import linear_model    #to loading algorithm\n",
    "import matplotlib.pyplot as plt    #data visualization\n",
    "from sklearn.linear_model import LogisticRegression"
   ]
  },
  {
   "cell_type": "code",
   "execution_count": null,
   "id": "8843a5f3",
   "metadata": {},
   "outputs": [],
   "source": [
    "plt.xlabel('land')\n",
    "plt.ylabel('price')\n",
    "plt.scatter(df.land,df.price,color='red',marker='*')"
   ]
  },
  {
   "cell_type": "markdown",
   "id": "4d951e0c",
   "metadata": {},
   "source": [
    "### Segregate Dataset into X and Output Y"
   ]
  },
  {
   "cell_type": "code",
   "execution_count": null,
   "id": "4f688ae0",
   "metadata": {},
   "outputs": [],
   "source": [
    "df.drop('price',axis='columns')\n",
    "land"
   ]
  },
  {
   "cell_type": "code",
   "execution_count": null,
   "id": "4fed4461",
   "metadata": {},
   "outputs": [],
   "source": [
    "price=df.price\n",
    "price"
   ]
  },
  {
   "cell_type": "markdown",
   "id": "cfc47e89",
   "metadata": {},
   "source": [
    "### Training Dataset using Linear Regression"
   ]
  },
  {
   "cell_type": "code",
   "execution_count": null,
   "id": "b4506b0c",
   "metadata": {},
   "outputs": [],
   "source": [
    "model = linear_model.LinearRegression()\n",
    "model.fit(land,price)"
   ]
  },
  {
   "cell_type": "markdown",
   "id": "f99fe54e",
   "metadata": {},
   "source": [
    "### Predict Price for Land sq.Feet of 1500"
   ]
  },
  {
   "cell_type": "code",
   "execution_count": null,
   "id": "831ef0dd",
   "metadata": {},
   "outputs": [],
   "source": [
    "LandAreainSqFt=[[4000]]\n",
    "PredictedmodelResult = model.predict(LandAreainSqFt)\n",
    "print(PredictedmodelResult);"
   ]
  }
 ],
 "metadata": {
  "kernelspec": {
   "display_name": "Python 3 (ipykernel)",
   "language": "python",
   "name": "python3"
  },
  "language_info": {
   "codemirror_mode": {
    "name": "ipython",
    "version": 3
   },
   "file_extension": ".py",
   "mimetype": "text/x-python",
   "name": "python",
   "nbconvert_exporter": "python",
   "pygments_lexer": "ipython3",
   "version": "3.9.12"
  }
 },
 "nbformat": 4,
 "nbformat_minor": 5
}
